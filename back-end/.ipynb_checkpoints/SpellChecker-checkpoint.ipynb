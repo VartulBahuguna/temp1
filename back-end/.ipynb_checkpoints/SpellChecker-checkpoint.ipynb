{
 "cells": [
  {
   "cell_type": "code",
   "execution_count": 5,
   "id": "ab7ae010",
   "metadata": {},
   "outputs": [
    {
     "name": "stderr",
     "output_type": "stream",
     "text": [
      "[nltk_data] Downloading package punkt to\n",
      "[nltk_data]     C:\\Users\\VARTUL\\AppData\\Roaming\\nltk_data...\n",
      "[nltk_data]   Package punkt is already up-to-date!\n",
      "[nltk_data] Downloading package wordnet to\n",
      "[nltk_data]     C:\\Users\\VARTUL\\AppData\\Roaming\\nltk_data...\n",
      "[nltk_data]   Package wordnet is already up-to-date!\n",
      "[nltk_data] Downloading package stopwords to\n",
      "[nltk_data]     C:\\Users\\VARTUL\\AppData\\Roaming\\nltk_data...\n",
      "[nltk_data]   Package stopwords is already up-to-date!\n"
     ]
    }
   ],
   "source": [
    "from keras.preprocessing.text import Tokenizer\n",
    "import nltk\n",
    "from string import punctuation\n",
    "from nltk.corpus import stopwords\n",
    "from nltk.tokenize import word_tokenize\n",
    "from nltk.stem import WordNetLemmatizer\n",
    "from nltk.stem import *\n",
    "from nltk.tokenize import sent_tokenize\n",
    "import numpy as np\n",
    "from nltk import WordPunctTokenizer\n",
    "import regex as re\n",
    "stemmer = WordNetLemmatizer()\n",
    "nltk.download('punkt')\n",
    "nltk.download('wordnet')\n",
    "nltk.download('stopwords')\n",
    "en_stop = set(nltk.corpus.stopwords.words('english'))"
   ]
  },
  {
   "cell_type": "code",
   "execution_count": 3,
   "id": "16a06a48",
   "metadata": {},
   "outputs": [],
   "source": [
    "#text preprocessing\n",
    "def preprocess_text(doc):\n",
    "    # Remove all special characters\n",
    "    doc = re.sub(r'\\W', ' ', str(doc))\n",
    "    \n",
    "    # Remove all single characters\n",
    "    doc = re.sub(r'\\s+[a-zA-Z]\\s+', ' ', doc)\n",
    "    \n",
    "    # Remove single characters from the start\n",
    "    doc = re.sub(r'\\^[a-zA-Z]\\s+', ' ', doc)\n",
    "    \n",
    "    # Substituting multiple spaces with single space\n",
    "    doc = re.sub(r'\\s+', ' ', doc, flags=re.I)\n",
    "    \n",
    "    #Removing prefixed 'b'\n",
    "    doc = re.sub(r'^b\\s+', \"\", doc)\n",
    "    \n",
    "    #Converting to Lowercase\n",
    "    doc = doc.lower()\n",
    "    \n",
    "    #Lemmatization\n",
    "    tok = doc.split()\n",
    "    tok = [stemmer.lemmatize(word) for word in tok]\n",
    "    tok = [word for word in tok if word not in en_stop]\n",
    "    tok = [word for word in tok if len(word)>3]\n",
    "    \n",
    "    preprocessed_text = ' '.join(tok)\n",
    "    \n",
    "    return preprocessed_text"
   ]
  },
  {
   "cell_type": "code",
   "execution_count": 35,
   "id": "9d7e26dc",
   "metadata": {},
   "outputs": [
    {
     "name": "stdout",
     "output_type": "stream",
     "text": [
      "threat person\n"
     ]
    },
    {
     "data": {
      "text/plain": [
       "str"
      ]
     },
     "execution_count": 35,
     "metadata": {},
     "output_type": "execute_result"
    }
   ],
   "source": [
    "sent = preprocess_text('threat in person')\n",
    "print(sent)\n",
    "type(sent)"
   ]
  },
  {
   "cell_type": "code",
   "execution_count": 2,
   "id": "e38ef446",
   "metadata": {},
   "outputs": [
    {
     "name": "stdout",
     "output_type": "stream",
     "text": [
      "happenning\n",
      "{'hapening', 'happenning'}\n"
     ]
    }
   ],
   "source": [
    "#spell Checker\n",
    "from spellchecker import SpellChecker\n",
    "\n",
    "spell = SpellChecker()\n",
    "\n",
    "# find those words that may be misspelled\n",
    "misspelled = spell.unknown(['something', 'is', 'hapenning', 'here'])\n",
    "\n",
    "for word in misspelled:\n",
    "    # Get the one `most likely` answer\n",
    "    print(spell.correction(word))\n",
    "\n",
    "    # Get a list of `likely` options\n",
    "    print(spell.candidates(word))"
   ]
  },
  {
   "cell_type": "code",
   "execution_count": null,
   "id": "99784be6",
   "metadata": {},
   "outputs": [],
   "source": []
  }
 ],
 "metadata": {
  "kernelspec": {
   "display_name": "Python 3",
   "language": "python",
   "name": "python3"
  },
  "language_info": {
   "codemirror_mode": {
    "name": "ipython",
    "version": 3
   },
   "file_extension": ".py",
   "mimetype": "text/x-python",
   "name": "python",
   "nbconvert_exporter": "python",
   "pygments_lexer": "ipython3",
   "version": "3.8.8"
  }
 },
 "nbformat": 4,
 "nbformat_minor": 5
}
