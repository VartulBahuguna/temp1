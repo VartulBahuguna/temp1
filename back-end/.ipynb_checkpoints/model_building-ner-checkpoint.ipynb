{
 "cells": [
  {
   "cell_type": "code",
   "execution_count": 1,
   "id": "d25b4bc8",
   "metadata": {},
   "outputs": [],
   "source": [
    "#importing required libraries\n",
    "\n",
    "import pandas as pd\n",
    "import numpy as np\n",
    "from nltk.corpus import stopwords\n",
    "from nltk.tokenize import word_tokenize\n",
    "import nltk\n",
    "import spacy \n",
    "from spacy.lang.en import English\n",
    "from spacy.pipeline import EntityRuler\n",
    "import json\n",
    "from nltk.stem.porter import PorterStemmer\n",
    "import random\n",
    "from spacy.training.example import Example\n",
    "from spacy.tokens import Doc"
   ]
  },
  {
   "cell_type": "code",
   "execution_count": 2,
   "id": "5694b006",
   "metadata": {},
   "outputs": [
    {
     "name": "stderr",
     "output_type": "stream",
     "text": [
      "[nltk_data] Downloading package stopwords to\n",
      "[nltk_data]     C:\\Users\\VARTUL\\AppData\\Roaming\\nltk_data...\n",
      "[nltk_data]   Package stopwords is already up-to-date!\n",
      "[nltk_data] Downloading package punkt to\n",
      "[nltk_data]     C:\\Users\\VARTUL\\AppData\\Roaming\\nltk_data...\n",
      "[nltk_data]   Package punkt is already up-to-date!\n"
     ]
    },
    {
     "data": {
      "text/plain": [
       "True"
      ]
     },
     "execution_count": 2,
     "metadata": {},
     "output_type": "execute_result"
    }
   ],
   "source": [
    "nlp = spacy.load(\"en_core_web_lg\")\n",
    "nltk.download('stopwords')\n",
    "nltk.download('punkt')"
   ]
  },
  {
   "cell_type": "code",
   "execution_count": 3,
   "id": "38719d47",
   "metadata": {},
   "outputs": [
    {
     "name": "stdout",
     "output_type": "stream",
     "text": [
      "(5128, 10)\n"
     ]
    }
   ],
   "source": [
    "#importing data set\n",
    "\n",
    "df = pd.read_csv(\"C:\\\\Users\\\\VARTUL\\\\Desktop\\\\DA07.csv\")\n",
    "print(df.shape)\n",
    "df = df.dropna()"
   ]
  },
  {
   "cell_type": "code",
   "execution_count": 4,
   "id": "f727c6a9",
   "metadata": {},
   "outputs": [],
   "source": [
    "#Stopwords removal and Tokenization\n",
    "\n",
    "df['Event Type'] = df['Event Type'].apply(str)\n",
    "ls =df['Event Type'].to_list()\n",
    "n = len(ls)\n",
    "ps = ls.copy()\n",
    "for i in range(0,n):\n",
    "    s = ls[i]\n",
    "    stop_words = set(stopwords.words('english'))\n",
    "    word_tokens = word_tokenize(s)\n",
    "    filtered_sentence = [w for w in word_tokens if not w.lower() in stop_words]\n",
    "    ls[i].join(filtered_sentence)\n",
    "    ls[i] = ls[i].lower()"
   ]
  },
  {
   "cell_type": "code",
   "execution_count": 5,
   "id": "9db23351",
   "metadata": {},
   "outputs": [],
   "source": [
    "#Removing unwanted words (not related to crime)\n",
    "\n",
    "unique = list(set(ls))\n",
    "\n",
    "        \n",
    "words = []    \n",
    "for i in unique:\n",
    "    j = i.replace('(', \" \").replace(')', \" \").replace('/', \" \").replace('-', \" \")\n",
    "    a=j.split(\" \")\n",
    "    for word in a:\n",
    "        words.append(word.strip())\n",
    "words = list(set(words))\n",
    "words.sort()\n",
    "rem = ['by', 'code', 'abled', 'act', 'corona', 'for', 'against', 'in', 'jam', 'media','information',\n",
    " 'internet','government','mobile','model','on','pocket','phone','other','people','small','pick','person',\n",
    " 'medium', 'mining','police','unclaimed','help','object','attempt','cyber','departments','fire','found',\n",
    " 'differently','social','safety','personally','escort','missing','major','election','conduct','attempted','of','human','unknown','pollution','property','related','required','']\n",
    "for i in rem:\n",
    "    words.remove(i)"
   ]
  },
  {
   "cell_type": "code",
   "execution_count": 6,
   "id": "af86779b",
   "metadata": {},
   "outputs": [],
   "source": [
    "#classifying key words according to their severity \n",
    "\n",
    "l1 = ['trafficking', 'election Offences', 'explosive', \n",
    "      'murder','assault','riot', \n",
    "      'deadbody', 'fire', 'rape', 'ndps', ]\n",
    "l2 = ['suicide', 'accident', 'smugling', 'violation','offenses',\n",
    "     'crime', 'kidnap', 'harrassment', 'sexual'\n",
    "      'domestic','assault'\n",
    "     ]\n",
    "l3 = ['gambling', 'offenses',  'forgery', 'threat','suspicious',\n",
    "      'illegal', 'robbery', 'abuse','female','sos','theft','violence'\n",
    " 'accident','animals','child','commotion','crimes','crime','dispute',\n",
    " 'disputes','dacoity','dowry','encroachment','excise','illegal','108',\n",
    " '1090']"
   ]
  },
  {
   "cell_type": "code",
   "execution_count": 7,
   "id": "83a712df",
   "metadata": {},
   "outputs": [],
   "source": [
    "#function to create patterns\n",
    "\n",
    "def create_patterns(t, ls):\n",
    "    patterns = []\n",
    "    for item in ls:\n",
    "        pattern = {\n",
    "            \"label\":t,\n",
    "            \"pattern\":item\n",
    "        }\n",
    "        \n",
    "        patterns.append(pattern)\n",
    "    return patterns"
   ]
  },
  {
   "cell_type": "code",
   "execution_count": 8,
   "id": "7869fa07",
   "metadata": {},
   "outputs": [],
   "source": [
    "pattern1 = create_patterns('L1', l1)\n",
    "pattern2 = create_patterns('L2', l2)\n",
    "pattern3 = create_patterns('L3', l3) \n",
    "patterns = pattern1+pattern2+pattern3"
   ]
  },
  {
   "cell_type": "code",
   "execution_count": 9,
   "id": "7f703136",
   "metadata": {},
   "outputs": [],
   "source": [
    "#generating rules with created patterns\n",
    "\n",
    "def gen_rules(patterns):\n",
    "    nlp = English()\n",
    "    ruler = nlp.add_pipe(\"entity_ruler\")\n",
    "    ruler.add_patterns(patterns)\n",
    "    nlp.to_disk(\"crime_ner\")"
   ]
  },
  {
   "cell_type": "code",
   "execution_count": 10,
   "id": "9bf5bd3c",
   "metadata": {},
   "outputs": [],
   "source": [
    "gen_rules(patterns)"
   ]
  },
  {
   "cell_type": "code",
   "execution_count": 11,
   "id": "7f8e0b6d",
   "metadata": {},
   "outputs": [],
   "source": [
    "nlp = spacy.load('crime_ner')"
   ]
  },
  {
   "cell_type": "code",
   "execution_count": 12,
   "id": "602049e8",
   "metadata": {},
   "outputs": [],
   "source": [
    "#creating Train-dataset \n",
    "\n",
    "def test_model(model, text):\n",
    "    doc = nlp(text)\n",
    "    results = []\n",
    "    entities = []\n",
    "    for ent in doc.ents:\n",
    "        entities.append((ent.start_char, ent.end_char, ent.label_))\n",
    "    if(len(entities) > 0):\n",
    "        results = (text, {'entities': entities})\n",
    "        return results"
   ]
  },
  {
   "cell_type": "code",
   "execution_count": 13,
   "id": "b66efd43",
   "metadata": {},
   "outputs": [],
   "source": [
    "def save_data(file, data):\n",
    "    with open(file, 'w', encoding = 'utf-8')as f:\n",
    "        json.dump(data, f, indent=4)"
   ]
  },
  {
   "cell_type": "code",
   "execution_count": 14,
   "id": "9e9880e8",
   "metadata": {},
   "outputs": [],
   "source": [
    "res = []\n",
    "TRAIN_DATA = []\n",
    "for i in ls:\n",
    "    result = test_model(nlp, i)\n",
    "    res.append(result)\n",
    "    if result != None:\n",
    "        TRAIN_DATA.append(result)\n",
    "save_data('data/crime_training_data.json', TRAIN_DATA)    "
   ]
  },
  {
   "cell_type": "code",
   "execution_count": 15,
   "id": "defac394",
   "metadata": {},
   "outputs": [],
   "source": [
    "def load_data(file):\n",
    "    with open(file, \"r\", encoding='utf-8') as f:\n",
    "        data = json.load(f)\n",
    "    return data"
   ]
  },
  {
   "cell_type": "code",
   "execution_count": 16,
   "id": "70e98447",
   "metadata": {},
   "outputs": [],
   "source": [
    "TRAIN_DATA = load_data('data/crime_training_data.json')"
   ]
  },
  {
   "cell_type": "code",
   "execution_count": 17,
   "id": "94e01511",
   "metadata": {},
   "outputs": [],
   "source": [
    "#Model Training process(Takes around 1hr)\n",
    "\n",
    "def train_spacy(data, iterations):\n",
    "    TRAIN_DATA = data\n",
    "    nlp = spacy.blank('en')\n",
    "    if 'ner' not in nlp.pipe_names:\n",
    "        ner = nlp.create_pipe('ner')\n",
    "        nlp.add_pipe('ner', last = True)\n",
    "    for _, annotations in TRAIN_DATA:\n",
    "        for ent in annotations.get('entities'):\n",
    "            ner.add_label(ent[2])\n",
    "    other_pipes = [pipe for pipe in nlp.pipe_names if pipe != 'ner']\n",
    "    with nlp.disable_pipes(*other_pipes):\n",
    "        optimizer = nlp.begin_training()\n",
    "        for itn in range(iterations):\n",
    "            print('Starting Itertions ' + str(itn))\n",
    "            random.shuffle(TRAIN_DATA)\n",
    "            losses = {}\n",
    "            for batch in spacy.util.minibatch(TRAIN_DATA, size=2):\n",
    "                for text, annotations in batch:\n",
    "                    doc = nlp.make_doc(text)\n",
    "                    example = Example.from_dict(doc, annotations)\n",
    "                    nlp.update(\n",
    "                            [example],\n",
    "                            drop = 0.2,\n",
    "                            sgd = optimizer,\n",
    "                            losses = losses\n",
    "                    )\n",
    "            print(losses)\n",
    "    return nlp"
   ]
  },
  {
   "cell_type": "code",
   "execution_count": null,
   "id": "e295b9e9",
   "metadata": {},
   "outputs": [],
   "source": [
    "\n",
    "\n",
    "# nlp = train_spacy(TRAIN_DATA, 30)\n",
    "# nlp.to_disk('crime_ner_model')"
   ]
  },
  {
   "cell_type": "code",
   "execution_count": 18,
   "id": "657b5b76",
   "metadata": {},
   "outputs": [],
   "source": [
    "tlp = spacy.load('crime_ner_model')"
   ]
  },
  {
   "cell_type": "code",
   "execution_count": null,
   "id": "0371b5db",
   "metadata": {},
   "outputs": [],
   "source": []
  }
 ],
 "metadata": {
  "kernelspec": {
   "display_name": "Python 3",
   "language": "python",
   "name": "python3"
  },
  "language_info": {
   "codemirror_mode": {
    "name": "ipython",
    "version": 3
   },
   "file_extension": ".py",
   "mimetype": "text/x-python",
   "name": "python",
   "nbconvert_exporter": "python",
   "pygments_lexer": "ipython3",
   "version": "3.8.8"
  }
 },
 "nbformat": 4,
 "nbformat_minor": 5
}
