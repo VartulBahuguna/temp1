{
 "cells": [
  {
   "cell_type": "code",
   "execution_count": 31,
   "id": "51189a0e",
   "metadata": {},
   "outputs": [],
   "source": [
    "import pandas as pd\n",
    "import numpy as np\n",
    "from sklearn import linear_model\n",
    "import matplotlib.pyplot as plt\n",
    "import seaborn as sns\n",
    "import random as r\n",
    "import math\n",
    "import seaborn"
   ]
  },
  {
   "cell_type": "code",
   "execution_count": 32,
   "id": "6c26f90d",
   "metadata": {},
   "outputs": [
    {
     "data": {
      "text/html": [
       "<div>\n",
       "<style scoped>\n",
       "    .dataframe tbody tr th:only-of-type {\n",
       "        vertical-align: middle;\n",
       "    }\n",
       "\n",
       "    .dataframe tbody tr th {\n",
       "        vertical-align: top;\n",
       "    }\n",
       "\n",
       "    .dataframe thead th {\n",
       "        text-align: right;\n",
       "    }\n",
       "</style>\n",
       "<table border=\"1\" class=\"dataframe\">\n",
       "  <thead>\n",
       "    <tr style=\"text-align: right;\">\n",
       "      <th></th>\n",
       "      <th>Unnamed: 0</th>\n",
       "      <th>Unnamed: 0.1</th>\n",
       "      <th>District</th>\n",
       "      <th>Event</th>\n",
       "      <th>Circle</th>\n",
       "      <th>Police Station</th>\n",
       "      <th>Caller Source</th>\n",
       "      <th>Event Type</th>\n",
       "      <th>Event Sub-Type</th>\n",
       "      <th>Latitude</th>\n",
       "      <th>...</th>\n",
       "      <th>longitude1</th>\n",
       "      <th>Age</th>\n",
       "      <th>gender</th>\n",
       "      <th>Year</th>\n",
       "      <th>Day</th>\n",
       "      <th>Month</th>\n",
       "      <th>Hour</th>\n",
       "      <th>Minute</th>\n",
       "      <th>Second</th>\n",
       "      <th>Level</th>\n",
       "    </tr>\n",
       "  </thead>\n",
       "  <tbody>\n",
       "    <tr>\n",
       "      <th>0</th>\n",
       "      <td>0</td>\n",
       "      <td>0</td>\n",
       "      <td>LUCKNOW</td>\n",
       "      <td>P01042100004</td>\n",
       "      <td>C1</td>\n",
       "      <td>PS1</td>\n",
       "      <td>PHONE</td>\n",
       "      <td>Information Against Police</td>\n",
       "      <td>Misbehavior By Prv</td>\n",
       "      <td>26.834</td>\n",
       "      <td>...</td>\n",
       "      <td>81.639883</td>\n",
       "      <td>22</td>\n",
       "      <td>F</td>\n",
       "      <td>2021</td>\n",
       "      <td>4</td>\n",
       "      <td>1</td>\n",
       "      <td>0</td>\n",
       "      <td>0</td>\n",
       "      <td>0</td>\n",
       "      <td>3</td>\n",
       "    </tr>\n",
       "    <tr>\n",
       "      <th>1</th>\n",
       "      <td>1</td>\n",
       "      <td>1</td>\n",
       "      <td>LUCKNOW</td>\n",
       "      <td>P01042104316</td>\n",
       "      <td>C1</td>\n",
       "      <td>PS1</td>\n",
       "      <td>PHONE</td>\n",
       "      <td>Threat In Person</td>\n",
       "      <td>Attack</td>\n",
       "      <td>26.828</td>\n",
       "      <td>...</td>\n",
       "      <td>81.256241</td>\n",
       "      <td>49</td>\n",
       "      <td>M</td>\n",
       "      <td>2021</td>\n",
       "      <td>4</td>\n",
       "      <td>1</td>\n",
       "      <td>12</td>\n",
       "      <td>9</td>\n",
       "      <td>0</td>\n",
       "      <td>3</td>\n",
       "    </tr>\n",
       "    <tr>\n",
       "      <th>2</th>\n",
       "      <td>2</td>\n",
       "      <td>2</td>\n",
       "      <td>LUCKNOW</td>\n",
       "      <td>P01042104847</td>\n",
       "      <td>C1</td>\n",
       "      <td>PS1</td>\n",
       "      <td>PHONE</td>\n",
       "      <td>Dispute</td>\n",
       "      <td>Dispute In Hospital</td>\n",
       "      <td>26.840</td>\n",
       "      <td>...</td>\n",
       "      <td>81.048264</td>\n",
       "      <td>42</td>\n",
       "      <td>F</td>\n",
       "      <td>2021</td>\n",
       "      <td>4</td>\n",
       "      <td>1</td>\n",
       "      <td>12</td>\n",
       "      <td>51</td>\n",
       "      <td>0</td>\n",
       "      <td>3</td>\n",
       "    </tr>\n",
       "    <tr>\n",
       "      <th>3</th>\n",
       "      <td>3</td>\n",
       "      <td>3</td>\n",
       "      <td>LUCKNOW</td>\n",
       "      <td>P01042105074</td>\n",
       "      <td>C1</td>\n",
       "      <td>PS1</td>\n",
       "      <td>PHONE</td>\n",
       "      <td>Gambling</td>\n",
       "      <td>Play Cards</td>\n",
       "      <td>26.828</td>\n",
       "      <td>...</td>\n",
       "      <td>81.411443</td>\n",
       "      <td>6</td>\n",
       "      <td>M</td>\n",
       "      <td>2021</td>\n",
       "      <td>4</td>\n",
       "      <td>1</td>\n",
       "      <td>13</td>\n",
       "      <td>10</td>\n",
       "      <td>0</td>\n",
       "      <td>3</td>\n",
       "    </tr>\n",
       "    <tr>\n",
       "      <th>4</th>\n",
       "      <td>4</td>\n",
       "      <td>4</td>\n",
       "      <td>LUCKNOW</td>\n",
       "      <td>P01042105152</td>\n",
       "      <td>C1</td>\n",
       "      <td>PS1</td>\n",
       "      <td>PHONE</td>\n",
       "      <td>Threat In Person</td>\n",
       "      <td>Attack</td>\n",
       "      <td>26.834</td>\n",
       "      <td>...</td>\n",
       "      <td>81.020204</td>\n",
       "      <td>49</td>\n",
       "      <td>F</td>\n",
       "      <td>2021</td>\n",
       "      <td>4</td>\n",
       "      <td>1</td>\n",
       "      <td>13</td>\n",
       "      <td>18</td>\n",
       "      <td>0</td>\n",
       "      <td>3</td>\n",
       "    </tr>\n",
       "  </tbody>\n",
       "</table>\n",
       "<p>5 rows × 22 columns</p>\n",
       "</div>"
      ],
      "text/plain": [
       "   Unnamed: 0  Unnamed: 0.1 District         Event Circle Police Station  \\\n",
       "0           0             0  LUCKNOW  P01042100004     C1            PS1   \n",
       "1           1             1  LUCKNOW  P01042104316     C1            PS1   \n",
       "2           2             2  LUCKNOW  P01042104847     C1            PS1   \n",
       "3           3             3  LUCKNOW  P01042105074     C1            PS1   \n",
       "4           4             4  LUCKNOW  P01042105152     C1            PS1   \n",
       "\n",
       "  Caller Source                  Event Type       Event Sub-Type  Latitude  \\\n",
       "0         PHONE  Information Against Police   Misbehavior By Prv    26.834   \n",
       "1         PHONE            Threat In Person               Attack    26.828   \n",
       "2         PHONE                     Dispute  Dispute In Hospital    26.840   \n",
       "3         PHONE                    Gambling           Play Cards    26.828   \n",
       "4         PHONE            Threat In Person               Attack    26.834   \n",
       "\n",
       "   ...  longitude1  Age  gender  Year Day  Month  Hour  Minute  Second  Level  \n",
       "0  ...   81.639883   22       F  2021   4      1     0       0       0      3  \n",
       "1  ...   81.256241   49       M  2021   4      1    12       9       0      3  \n",
       "2  ...   81.048264   42       F  2021   4      1    12      51       0      3  \n",
       "3  ...   81.411443    6       M  2021   4      1    13      10       0      3  \n",
       "4  ...   81.020204   49       F  2021   4      1    13      18       0      3  \n",
       "\n",
       "[5 rows x 22 columns]"
      ]
     },
     "execution_count": 32,
     "metadata": {},
     "output_type": "execute_result"
    }
   ],
   "source": [
    "df = pd.read_csv('dataset.csv')\n",
    "df.head()"
   ]
  },
  {
   "cell_type": "code",
   "execution_count": 33,
   "id": "c59ef611",
   "metadata": {},
   "outputs": [],
   "source": [
    "#to get the data of the region within 5km of the required lat long\n",
    "\n",
    "def new_frame(latitude,longitude):\n",
    "    lat=float((1/110.5))*5+latitude\n",
    "    lon=float(1/111.320)*math.cos(latitude)+longitude\n",
    "    #print(lat);\n",
    "    new_frame=df[(df[\"Latitude\"] >=latitude) & (df[\"Latitude\"] <lat) &(df[\"Longitude\"] >=longitude)&(df[\"Latitude\"] <lon)]\n",
    "    return new_frame"
   ]
  },
  {
   "cell_type": "code",
   "execution_count": 34,
   "id": "f7c1a377",
   "metadata": {},
   "outputs": [],
   "source": [
    "#to get visualization of gender distribution\n",
    "def gender_rep(nf):\n",
    "    colors = sns.color_palette('bright')[0:5]\n",
    "    labels = ['Male', 'Female']\n",
    "    dfm = nf[nf['gender'] == 'M']\n",
    "    lsm = dfm['gender'].to_list()\n",
    "    dff = nf[nf['gender'] == 'F']\n",
    "    lsf = dff['gender'].to_list()\n",
    "    data = [len(lsm), len(lsf)]\n",
    "    plt.pie(data, labels = labels, colors = colors, autopct='%.0f%%',explode = (0.1, 0.1))\n",
    "    plt.title('Gender Distribution')\n",
    "    plt.show()"
   ]
  },
  {
   "cell_type": "code",
   "execution_count": 35,
   "id": "72f03d10",
   "metadata": {},
   "outputs": [],
   "source": [
    "#to get visualization of age distribution\n",
    "def age_rep(nf):\n",
    "    colors = sns.color_palette('bright')[0:5]\n",
    "    labels = ['5-15', '16-25', '26-35','36-50']\n",
    "    df1 = nf[(nf['Age'] >= 5) & (nf['Age'] <= 15)]\n",
    "    df2 = nf[(nf['Age'] >= 16) & (nf['Age'] <= 25)]\n",
    "    df3 = nf[(nf['Age'] >= 26) & (nf['Age'] <= 35)]\n",
    "    df4 = nf[(nf['Age'] >= 36) & (nf['Age'] <= 50)]\n",
    "    ls1 = df1['Age'].to_list()\n",
    "    ls2 = df2['Age'].to_list()\n",
    "    ls3 = df3['Age'].to_list()\n",
    "    ls4 = df4['Age'].to_list()\n",
    "    data = [len(ls1), len(ls2), len(ls2), len(ls3)]\n",
    "\n",
    "    # create pie chart\n",
    "    plt.pie(data, labels = labels, colors = colors, autopct='%.0f%%',explode = (0.1, 0.1, 0.1, 0.1))\n",
    "    plt.title('Age Distribution')\n",
    "    plt.show()"
   ]
  },
  {
   "cell_type": "code",
   "execution_count": 36,
   "id": "ca5ef5f1",
   "metadata": {},
   "outputs": [],
   "source": [
    "#to get visualization of month distribution\n",
    "def month_wise(nf):\n",
    "    sns.set_theme(style=\"whitegrid\")\n",
    "\n",
    "    df1 = nf[nf['Month'] == 1]\n",
    "    df2 = nf[nf['Month'] == 2]\n",
    "    df3 = nf[nf['Month'] == 3]\n",
    "    df4 = nf[nf['Month'] == 4]\n",
    "    df5 = nf[nf['Month'] == 5]\n",
    "    df6 = nf[nf['Month'] == 6]\n",
    "    df7 = nf[nf['Month'] == 7]\n",
    "    df8 = nf[nf['Month'] == 8]\n",
    "    df9 = nf[nf['Month'] == 9]\n",
    "    df10 = nf[nf['Month'] == 10]\n",
    "    df11 = nf[nf['Month'] == 11]\n",
    "    df12 = nf[nf['Month'] == 12]\n",
    "\n",
    "    ls = ['Jan', 'Feb', 'March', 'Apr', 'May', 'June', 'July', 'Aug', 'Sept', 'Oct', 'Nov', 'Dec']\n",
    "    lsc = [len(df1), len(df2), len(df3), len(df4), len(df5), len(df6), len(df7), len(df8), len(df9), len(df10), len(df11), len(df12)]\n",
    "    lsc\n",
    "    mth = pd.DataFrame(\n",
    "        {'month': ls,\n",
    "         'fq': lsc,\n",
    "        })\n",
    "    ax = sns.barplot(x=\"month\", y=\"fq\", data=mth)"
   ]
  },
  {
   "cell_type": "code",
   "execution_count": 37,
   "id": "f03b9f23",
   "metadata": {},
   "outputs": [],
   "source": [
    "#to get visualization of hourly distribution\n",
    "def hr_wise(nf):\n",
    "    sns.set_theme(style=\"whitegrid\")\n",
    "\n",
    "    df1 = nf[(nf['Hour'] >= 0) & (nf['Hour'] <= 5)]\n",
    "    df2 = nf[(nf['Hour'] >= 6) & (nf['Hour'] <= 11)]\n",
    "    df3 = nf[(nf['Hour'] >= 12) & (nf['Hour'] <= 17)]\n",
    "    df4 = nf[(nf['Hour'] >= 18) & (nf['Hour'] <= 23)]\n",
    "\n",
    "    ls = nf['Hour'].to_list()\n",
    "    ls = list(set(ls))\n",
    "    ls = ['00-06', '06-12', '12-18', '18-00']\n",
    "    lsc = [len(df1), len(df2), len(df3), len(df4)]\n",
    "    lsc\n",
    "    mth = pd.DataFrame(\n",
    "        {'hr': ls,\n",
    "         'fq': lsc,\n",
    "        })\n",
    "    ax = sns.barplot(x=\"hr\", y=\"fq\", data=mth)"
   ]
  },
  {
   "cell_type": "code",
   "execution_count": 38,
   "id": "1df32604",
   "metadata": {},
   "outputs": [],
   "source": [
    "nf = new_frame(26.833, 81.026)"
   ]
  },
  {
   "cell_type": "code",
   "execution_count": 39,
   "id": "70345689",
   "metadata": {
    "scrolled": true
   },
   "outputs": [
    {
     "data": {
      "image/png": "[encoded data removed]",
      "text/plain": [
       "<Figure size 432x288 with 1 Axes>"
      ]
     },
     "metadata": {},
     "output_type": "display_data"
    }
   ],
   "source": [
    "age_rep(nf)"
   ]
  },
  {
   "cell_type": "code",
   "execution_count": 40,
   "id": "e5115353",
   "metadata": {},
   "outputs": [
    {
     "data": {
      "image/png": "[encoded data removed]",
      "text/plain": [
       "<Figure size 432x288 with 1 Axes>"
      ]
     },
     "metadata": {},
     "output_type": "display_data"
    }
   ],
   "source": [
    "gender_rep(nf)"
   ]
  },
  {
   "cell_type": "code",
   "execution_count": 41,
   "id": "7b882d4c",
   "metadata": {},
   "outputs": [
    {
     "data": {
      "image/png": "[encoded data removed]",
      "text/plain": [
       "<Figure size 432x288 with 1 Axes>"
      ]
     },
     "metadata": {},
     "output_type": "display_data"
    }
   ],
   "source": [
    "month_wise(nf)"
   ]
  },
  {
   "cell_type": "code",
   "execution_count": 42,
   "id": "d7e493c3",
   "metadata": {},
   "outputs": [
    {
     "data": {
      "image/png": "[encoded data removed]",
      "text/plain": [
       "<Figure size 432x288 with 1 Axes>"
      ]
     },
     "metadata": {},
     "output_type": "display_data"
    }
   ],
   "source": [
    "hr_wise(nf)"
   ]
  },
  {
   "cell_type": "code",
   "execution_count": null,
   "id": "5cc0d536",
   "metadata": {},
   "outputs": [],
   "source": []
  }
 ],
 "metadata": {
  "kernelspec": {
   "display_name": "Python 3",
   "language": "python",
   "name": "python3"
  },
  "language_info": {
   "codemirror_mode": {
    "name": "ipython",
    "version": 3
   },
   "file_extension": ".py",
   "mimetype": "text/x-python",
   "name": "python",
   "nbconvert_exporter": "python",
   "pygments_lexer": "ipython3",
   "version": "3.8.8"
  }
 },
 "nbformat": 4,
 "nbformat_minor": 5
}
